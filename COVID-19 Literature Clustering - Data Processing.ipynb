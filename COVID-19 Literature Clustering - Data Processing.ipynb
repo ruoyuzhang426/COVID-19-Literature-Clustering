{
 "cells": [
  {
   "cell_type": "markdown",
   "metadata": {},
   "source": [
    "# Data Pre-Processing"
   ]
  },
  {
   "cell_type": "markdown",
   "metadata": {},
   "source": [
    "After cleaning the raw data into cleaned form, the next step is to pre-process the data for the clustering analysis. Since the original file is pretty large, I've seperated the cleaning and processing steps."
   ]
  },
  {
   "cell_type": "code",
   "execution_count": 1,
   "metadata": {},
   "outputs": [],
   "source": [
    "import numpy as np # linear algebra\n",
    "import pandas as pd # data processing, CSV file I/O (e.g. pd.read_csv)\n",
    "import glob\n",
    "import json\n",
    "\n",
    "import matplotlib.pyplot as plt\n",
    "plt.style.use('ggplot')"
   ]
  },
  {
   "cell_type": "code",
   "execution_count": 2,
   "metadata": {},
   "outputs": [
    {
     "data": {
      "text/html": [
       "<div>\n",
       "<style scoped>\n",
       "    .dataframe tbody tr th:only-of-type {\n",
       "        vertical-align: middle;\n",
       "    }\n",
       "\n",
       "    .dataframe tbody tr th {\n",
       "        vertical-align: top;\n",
       "    }\n",
       "\n",
       "    .dataframe thead th {\n",
       "        text-align: right;\n",
       "    }\n",
       "</style>\n",
       "<table border=\"1\" class=\"dataframe\">\n",
       "  <thead>\n",
       "    <tr style=\"text-align: right;\">\n",
       "      <th></th>\n",
       "      <th>paper_id</th>\n",
       "      <th>doi</th>\n",
       "      <th>abstract</th>\n",
       "      <th>body_text</th>\n",
       "      <th>authors</th>\n",
       "      <th>title</th>\n",
       "      <th>journal</th>\n",
       "      <th>abstract_summary</th>\n",
       "      <th>abstract_word_count</th>\n",
       "      <th>body_word_count</th>\n",
       "      <th>body_unique_words</th>\n",
       "    </tr>\n",
       "  </thead>\n",
       "  <tbody>\n",
       "    <tr>\n",
       "      <th>0</th>\n",
       "      <td>4fcb95cc0c4ea6d1fa4137a4a087715ed6b68cea</td>\n",
       "      <td>10.1007/s00431-019-03543-0</td>\n",
       "      <td>Abnormal levels of end-tidal carbon dioxide (E...</td>\n",
       "      <td>Improvements in neonatal intensive care have r...</td>\n",
       "      <td>Tamura, Kentaro.  Williams, Emma E.  Dassios,...</td>\n",
       "      <td>End-tidal carbon dioxide levels during resusc...</td>\n",
       "      <td>Eur J Pediatr</td>\n",
       "      <td>Abnormal levels of end-tidal carbon dioxide (...</td>\n",
       "      <td>218</td>\n",
       "      <td>2601</td>\n",
       "      <td>830</td>\n",
       "    </tr>\n",
       "    <tr>\n",
       "      <th>1</th>\n",
       "      <td>86d4262de73cf81b5ea6aafb91630853248bff5f</td>\n",
       "      <td>10.1016/j.bbamcr.2011.06.011</td>\n",
       "      <td>The endoplasmic reticulum (ER) is the biggest ...</td>\n",
       "      <td>The endoplasmic reticulum (ER) is a multi-func...</td>\n",
       "      <td>Lynes, Emily M..  Simmen, Thomas</td>\n",
       "      <td>Urban planning of the endoplasmic reticulum (...</td>\n",
       "      <td>Biochimica et Biophysica Acta (BBA) - Molecula...</td>\n",
       "      <td>The endoplasmic reticulum (ER) is the biggest...</td>\n",
       "      <td>234</td>\n",
       "      <td>8069</td>\n",
       "      <td>2282</td>\n",
       "    </tr>\n",
       "    <tr>\n",
       "      <th>2</th>\n",
       "      <td>b2f67d533f2749807f2537f3775b39da3b186051</td>\n",
       "      <td>10.1016/j.fsiml.2020.100013</td>\n",
       "      <td>NaN</td>\n",
       "      <td>There is a disproportionate number of individu...</td>\n",
       "      <td>Liebrenz, Michael.  Bhugra, Dinesh.  Buadze, ...</td>\n",
       "      <td>Caring for persons in detention suffering wit...</td>\n",
       "      <td>Forensic Science International: Mind and Law</td>\n",
       "      <td>Not provided.</td>\n",
       "      <td>0</td>\n",
       "      <td>1126</td>\n",
       "      <td>540</td>\n",
       "    </tr>\n",
       "    <tr>\n",
       "      <th>3</th>\n",
       "      <td>9ec0b1175992879d5b8d3351ef40a28bb48f18ce</td>\n",
       "      <td>10.1016/j.jhin.2019.07.001</td>\n",
       "      <td>NaN</td>\n",
       "      <td>Sir, Testing for respiratory virus infections ...</td>\n",
       "      <td>Gohil, S..  Donaghy, B..  Tature, D..  Kowal,...</td>\n",
       "      <td>Seasonal respiratory virus testing in managem...</td>\n",
       "      <td>J Hosp Infect</td>\n",
       "      <td>Not provided.</td>\n",
       "      <td>0</td>\n",
       "      <td>815</td>\n",
       "      <td>385</td>\n",
       "    </tr>\n",
       "    <tr>\n",
       "      <th>4</th>\n",
       "      <td>4ed70c27f14b7f9e6219fe605eae2b21a229f23c</td>\n",
       "      <td>10.1080/14787210.2017.1271712</td>\n",
       "      <td>NaN</td>\n",
       "      <td>The Middle East respiratory syndrome coronavir...</td>\n",
       "      <td>Al-Tawfiq, Jaffar A..  Memish, Ziad A.</td>\n",
       "      <td>Update on therapeutic options for Middle East...</td>\n",
       "      <td>Expert Rev Anti Infect Ther</td>\n",
       "      <td>Not provided.</td>\n",
       "      <td>0</td>\n",
       "      <td>2748</td>\n",
       "      <td>996</td>\n",
       "    </tr>\n",
       "  </tbody>\n",
       "</table>\n",
       "</div>"
      ],
      "text/plain": [
       "                                   paper_id                            doi  \\\n",
       "0  4fcb95cc0c4ea6d1fa4137a4a087715ed6b68cea     10.1007/s00431-019-03543-0   \n",
       "1  86d4262de73cf81b5ea6aafb91630853248bff5f   10.1016/j.bbamcr.2011.06.011   \n",
       "2  b2f67d533f2749807f2537f3775b39da3b186051    10.1016/j.fsiml.2020.100013   \n",
       "3  9ec0b1175992879d5b8d3351ef40a28bb48f18ce     10.1016/j.jhin.2019.07.001   \n",
       "4  4ed70c27f14b7f9e6219fe605eae2b21a229f23c  10.1080/14787210.2017.1271712   \n",
       "\n",
       "                                            abstract  \\\n",
       "0  Abnormal levels of end-tidal carbon dioxide (E...   \n",
       "1  The endoplasmic reticulum (ER) is the biggest ...   \n",
       "2                                                NaN   \n",
       "3                                                NaN   \n",
       "4                                                NaN   \n",
       "\n",
       "                                           body_text  \\\n",
       "0  Improvements in neonatal intensive care have r...   \n",
       "1  The endoplasmic reticulum (ER) is a multi-func...   \n",
       "2  There is a disproportionate number of individu...   \n",
       "3  Sir, Testing for respiratory virus infections ...   \n",
       "4  The Middle East respiratory syndrome coronavir...   \n",
       "\n",
       "                                             authors  \\\n",
       "0   Tamura, Kentaro.  Williams, Emma E.  Dassios,...   \n",
       "1                   Lynes, Emily M..  Simmen, Thomas   \n",
       "2   Liebrenz, Michael.  Bhugra, Dinesh.  Buadze, ...   \n",
       "3   Gohil, S..  Donaghy, B..  Tature, D..  Kowal,...   \n",
       "4             Al-Tawfiq, Jaffar A..  Memish, Ziad A.   \n",
       "\n",
       "                                               title  \\\n",
       "0   End-tidal carbon dioxide levels during resusc...   \n",
       "1   Urban planning of the endoplasmic reticulum (...   \n",
       "2   Caring for persons in detention suffering wit...   \n",
       "3   Seasonal respiratory virus testing in managem...   \n",
       "4   Update on therapeutic options for Middle East...   \n",
       "\n",
       "                                             journal  \\\n",
       "0                                      Eur J Pediatr   \n",
       "1  Biochimica et Biophysica Acta (BBA) - Molecula...   \n",
       "2       Forensic Science International: Mind and Law   \n",
       "3                                      J Hosp Infect   \n",
       "4                        Expert Rev Anti Infect Ther   \n",
       "\n",
       "                                    abstract_summary  abstract_word_count  \\\n",
       "0   Abnormal levels of end-tidal carbon dioxide (...                  218   \n",
       "1   The endoplasmic reticulum (ER) is the biggest...                  234   \n",
       "2                                      Not provided.                    0   \n",
       "3                                      Not provided.                    0   \n",
       "4                                      Not provided.                    0   \n",
       "\n",
       "   body_word_count  body_unique_words  \n",
       "0             2601                830  \n",
       "1             8069               2282  \n",
       "2             1126                540  \n",
       "3              815                385  \n",
       "4             2748                996  "
      ]
     },
     "execution_count": 2,
     "metadata": {},
     "output_type": "execute_result"
    }
   ],
   "source": [
    "df = pd.read_csv(\"/Users/ruoyu/Desktop/22 Fall/INLS 690/Individual Project/COVID-19 Literature Clustering Cleaned Data.csv\")\n",
    "df.head()"
   ]
  },
  {
   "cell_type": "markdown",
   "metadata": {},
   "source": [
    "## Removing Missing values"
   ]
  },
  {
   "cell_type": "code",
   "execution_count": 3,
   "metadata": {},
   "outputs": [
    {
     "name": "stdout",
     "output_type": "stream",
     "text": [
      "<class 'pandas.core.frame.DataFrame'>\n",
      "Int64Index: 32972 entries, 0 to 52338\n",
      "Data columns (total 11 columns):\n",
      " #   Column               Non-Null Count  Dtype \n",
      "---  ------               --------------  ----- \n",
      " 0   paper_id             32972 non-null  object\n",
      " 1   doi                  32972 non-null  object\n",
      " 2   abstract             32972 non-null  object\n",
      " 3   body_text            32972 non-null  object\n",
      " 4   authors              32972 non-null  object\n",
      " 5   title                32972 non-null  object\n",
      " 6   journal              32972 non-null  object\n",
      " 7   abstract_summary     32972 non-null  object\n",
      " 8   abstract_word_count  32972 non-null  int64 \n",
      " 9   body_word_count      32972 non-null  int64 \n",
      " 10  body_unique_words    32972 non-null  int64 \n",
      "dtypes: int64(3), object(8)\n",
      "memory usage: 3.0+ MB\n"
     ]
    }
   ],
   "source": [
    "df.dropna(inplace=True)\n",
    "df.info()"
   ]
  },
  {
   "cell_type": "markdown",
   "metadata": {},
   "source": [
    "## Removing non-english literatures"
   ]
  },
  {
   "cell_type": "code",
   "execution_count": 4,
   "metadata": {},
   "outputs": [
    {
     "name": "stderr",
     "output_type": "stream",
     "text": [
      "100%|██████████| 32972/32972 [04:08<00:00, 132.61it/s]\n"
     ]
    }
   ],
   "source": [
    "from tqdm import tqdm\n",
    "from langdetect import detect\n",
    "from langdetect import DetectorFactory\n",
    "\n",
    "# set seed\n",
    "DetectorFactory.seed = 0\n",
    "\n",
    "# hold label - language\n",
    "languages = []\n",
    "\n",
    "# go through each text\n",
    "for ii in tqdm(range(0,len(df))):\n",
    "    # split by space into list, take the first x intex, join with space\n",
    "    text = df.iloc[ii]['body_text'].split(\" \")\n",
    "    \n",
    "    lang = \"en\"\n",
    "    try:\n",
    "        if len(text) > 50:\n",
    "            lang = detect(\" \".join(text[:50]))\n",
    "        elif len(text) > 0:\n",
    "            lang = detect(\" \".join(text[:len(text)]))\n",
    "    # ught... beginning of the document was not in a good format\n",
    "    except Exception as e:\n",
    "        all_words = set(text)\n",
    "        try:\n",
    "            lang = detect(\" \".join(all_words))\n",
    "        # what!! :( let's see if we can find any text in abstract...\n",
    "        except Exception as e:\n",
    "            \n",
    "            try:\n",
    "                # let's try to label it through the abstract then\n",
    "                lang = detect(df.iloc[ii]['abstract_summary'])\n",
    "            except Exception as e:\n",
    "                lang = \"unknown\"\n",
    "                pass\n",
    "    \n",
    "    # get the language    \n",
    "    languages.append(lang)"
   ]
  },
  {
   "cell_type": "code",
   "execution_count": 9,
   "metadata": {},
   "outputs": [
    {
     "name": "stdout",
     "output_type": "stream",
     "text": [
      "Total: 32972\n",
      "\n",
      "{'cy': 4,\n",
      " 'de': 235,\n",
      " 'en': 32260,\n",
      " 'es': 146,\n",
      " 'fr': 237,\n",
      " 'hu': 1,\n",
      " 'it': 31,\n",
      " 'nl': 49,\n",
      " 'pt': 9}\n"
     ]
    }
   ],
   "source": [
    "from pprint import pprint\n",
    "\n",
    "languages_dict = {}\n",
    "for lang in set(languages):\n",
    "    languages_dict[lang] = languages.count(lang)\n",
    "    \n",
    "print(\"Total: {}\\n\".format(len(languages)))\n",
    "pprint(languages_dict)"
   ]
  },
  {
   "cell_type": "code",
   "execution_count": 10,
   "metadata": {},
   "outputs": [
    {
     "data": {
      "image/png": "[encoded data removed]",
      "text/plain": [
       "<Figure size 432x288 with 1 Axes>"
      ]
     },
     "metadata": {},
     "output_type": "display_data"
    }
   ],
   "source": [
    "df['language'] = languages\n",
    "plt.bar(range(len(languages_dict)), list(languages_dict.values()), align='center')\n",
    "plt.xticks(range(len(languages_dict)), list(languages_dict.keys()))\n",
    "plt.title(\"Distribution of Languages in Dataset\")\n",
    "plt.show()"
   ]
  },
  {
   "cell_type": "code",
   "execution_count": 11,
   "metadata": {},
   "outputs": [
    {
     "name": "stdout",
     "output_type": "stream",
     "text": [
      "<class 'pandas.core.frame.DataFrame'>\n",
      "Int64Index: 32260 entries, 0 to 52338\n",
      "Data columns (total 12 columns):\n",
      " #   Column               Non-Null Count  Dtype \n",
      "---  ------               --------------  ----- \n",
      " 0   paper_id             32260 non-null  object\n",
      " 1   doi                  32260 non-null  object\n",
      " 2   abstract             32260 non-null  object\n",
      " 3   body_text            32260 non-null  object\n",
      " 4   authors              32260 non-null  object\n",
      " 5   title                32260 non-null  object\n",
      " 6   journal              32260 non-null  object\n",
      " 7   abstract_summary     32260 non-null  object\n",
      " 8   abstract_word_count  32260 non-null  int64 \n",
      " 9   body_word_count      32260 non-null  int64 \n",
      " 10  body_unique_words    32260 non-null  int64 \n",
      " 11  language             32260 non-null  object\n",
      "dtypes: int64(3), object(9)\n",
      "memory usage: 3.2+ MB\n"
     ]
    }
   ],
   "source": [
    "df = df[df['language'] == 'en'] \n",
    "df.info()"
   ]
  },
  {
   "cell_type": "code",
   "execution_count": 12,
   "metadata": {},
   "outputs": [
    {
     "data": {
      "text/html": [
       "<div>\n",
       "<style scoped>\n",
       "    .dataframe tbody tr th:only-of-type {\n",
       "        vertical-align: middle;\n",
       "    }\n",
       "\n",
       "    .dataframe tbody tr th {\n",
       "        vertical-align: top;\n",
       "    }\n",
       "\n",
       "    .dataframe thead th {\n",
       "        text-align: right;\n",
       "    }\n",
       "</style>\n",
       "<table border=\"1\" class=\"dataframe\">\n",
       "  <thead>\n",
       "    <tr style=\"text-align: right;\">\n",
       "      <th></th>\n",
       "      <th>abstract_word_count</th>\n",
       "      <th>body_word_count</th>\n",
       "      <th>body_unique_words</th>\n",
       "    </tr>\n",
       "  </thead>\n",
       "  <tbody>\n",
       "    <tr>\n",
       "      <th>count</th>\n",
       "      <td>32260.000000</td>\n",
       "      <td>32260.000000</td>\n",
       "      <td>32260.000000</td>\n",
       "    </tr>\n",
       "    <tr>\n",
       "      <th>mean</th>\n",
       "      <td>217.090856</td>\n",
       "      <td>4214.148326</td>\n",
       "      <td>1337.836020</td>\n",
       "    </tr>\n",
       "    <tr>\n",
       "      <th>std</th>\n",
       "      <td>154.859318</td>\n",
       "      <td>3247.632211</td>\n",
       "      <td>694.422121</td>\n",
       "    </tr>\n",
       "    <tr>\n",
       "      <th>min</th>\n",
       "      <td>1.000000</td>\n",
       "      <td>12.000000</td>\n",
       "      <td>9.000000</td>\n",
       "    </tr>\n",
       "    <tr>\n",
       "      <th>25%</th>\n",
       "      <td>144.000000</td>\n",
       "      <td>2513.000000</td>\n",
       "      <td>936.000000</td>\n",
       "    </tr>\n",
       "    <tr>\n",
       "      <th>50%</th>\n",
       "      <td>199.000000</td>\n",
       "      <td>3628.000000</td>\n",
       "      <td>1229.000000</td>\n",
       "    </tr>\n",
       "    <tr>\n",
       "      <th>75%</th>\n",
       "      <td>256.000000</td>\n",
       "      <td>5199.000000</td>\n",
       "      <td>1612.000000</td>\n",
       "    </tr>\n",
       "    <tr>\n",
       "      <th>max</th>\n",
       "      <td>6324.000000</td>\n",
       "      <td>124703.000000</td>\n",
       "      <td>20966.000000</td>\n",
       "    </tr>\n",
       "  </tbody>\n",
       "</table>\n",
       "</div>"
      ],
      "text/plain": [
       "       abstract_word_count  body_word_count  body_unique_words\n",
       "count         32260.000000     32260.000000       32260.000000\n",
       "mean            217.090856      4214.148326        1337.836020\n",
       "std             154.859318      3247.632211         694.422121\n",
       "min               1.000000        12.000000           9.000000\n",
       "25%             144.000000      2513.000000         936.000000\n",
       "50%             199.000000      3628.000000        1229.000000\n",
       "75%             256.000000      5199.000000        1612.000000\n",
       "max            6324.000000    124703.000000       20966.000000"
      ]
     },
     "execution_count": 12,
     "metadata": {},
     "output_type": "execute_result"
    }
   ],
   "source": [
    "df.describe()"
   ]
  },
  {
   "cell_type": "code",
   "execution_count": 13,
   "metadata": {},
   "outputs": [],
   "source": [
    "df.to_csv(\"COVID-19 Literature Clustering Processed Data.csv\", index=False)"
   ]
  }
 ],
 "metadata": {
  "kernelspec": {
   "display_name": "Python 3",
   "language": "python",
   "name": "python3"
  },
  "language_info": {
   "codemirror_mode": {
    "name": "ipython",
    "version": 3
   },
   "file_extension": ".py",
   "mimetype": "text/x-python",
   "name": "python",
   "nbconvert_exporter": "python",
   "pygments_lexer": "ipython3",
   "version": "3.8.8"
  }
 },
 "nbformat": 4,
 "nbformat_minor": 4
}
